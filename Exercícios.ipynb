{
  "nbformat": 4,
  "nbformat_minor": 0,
  "metadata": {
    "colab": {
      "provenance": [],
      "toc_visible": true,
      "include_colab_link": true
    },
    "kernelspec": {
      "name": "python3",
      "display_name": "Python 3"
    },
    "language_info": {
      "name": "python"
    }
  },
  "cells": [
    {
      "cell_type": "markdown",
      "metadata": {
        "id": "view-in-github",
        "colab_type": "text"
      },
      "source": [
        "<a href=\"https://colab.research.google.com/github/tabita-barbosa/python-oficina-exercicios/blob/main/Exerc%C3%ADcios.ipynb\" target=\"_parent\"><img src=\"https://colab.research.google.com/assets/colab-badge.svg\" alt=\"Open In Colab\"/></a>"
      ]
    },
    {
      "cell_type": "markdown",
      "source": [
        "*Para a realização desses exercícios, peço que configurem para não aparecer sugestões da IA Gemini*"
      ],
      "metadata": {
        "id": "pAFFoVXs4XQo"
      }
    },
    {
      "cell_type": "markdown",
      "source": [
        "### A) **Utilizando variáveis, gere uma apresentação curta de sí mesma, como nesse exemplo**:\n",
        "\n"
      ],
      "metadata": {
        "id": "rZbJ_1LJ2DLf"
      }
    },
    {
      "cell_type": "code",
      "source": [
        "# Oi! Eu sou a Amanda, tenho 30 anos, moro em Salvador e meu signo é Gêmeos"
      ],
      "metadata": {
        "id": "ibKRn-P37-b2"
      },
      "execution_count": null,
      "outputs": []
    },
    {
      "cell_type": "code",
      "source": [
        "# Dica: As variáveis podem ser algo como:\n",
        "nome = 'Amanda'\n",
        "idade = 30\n",
        "cidade = 'Salvador'\n",
        "signo = 'Gêmeos'"
      ],
      "metadata": {
        "id": "n0Rjb0s_2ula"
      },
      "execution_count": null,
      "outputs": []
    },
    {
      "cell_type": "code",
      "source": [
        "# Resposta aqui:\n",
        "nome = input('qual é o seu nome? ')\n",
        "idade = input('qual é sua idade? ')\n",
        "cidade = input('onde você mora? ')\n",
        "signo = input('qual é o seu signo ')\n",
        "hobbie = input('qual é o seu hobbie? ')\n",
        "\n",
        "print(f'Olá, {nome}! você tem {idade} anos e é do signo de {signo}, você mora em {cidade}. seu hobbie preferido é {hobbie}')\n",
        "\n"
      ],
      "metadata": {
        "id": "kil7YL7Z3AoV",
        "outputId": "b268dd50-d791-491b-be8b-fb4639cf166f",
        "colab": {
          "base_uri": "https://localhost:8080/"
        }
      },
      "execution_count": 2,
      "outputs": [
        {
          "output_type": "stream",
          "name": "stdout",
          "text": [
            "qual é o seu nome? tab\n",
            "qual é sua idade? 27\n",
            "onde você mora? guarulhos\n",
            "qual é o seu signo capricornio\n",
            "qual é o seu hobbie? palavras cruzadas\n",
            "Olá, tab! você tem 27 anos e é do signo de capricornio, você mora em guarulhos. seu hobbie preferido é palavras cruzadas\n"
          ]
        }
      ]
    },
    {
      "cell_type": "markdown",
      "source": [
        "\n",
        "\n",
        "---\n",
        "\n"
      ],
      "metadata": {
        "id": "dgkbPq2JK7ES"
      }
    },
    {
      "cell_type": "markdown",
      "source": [
        "### B) **Qual o maior valor dessa lista de gastos?**\n",
        "\n"
      ],
      "metadata": {
        "id": "jQnXX8Ii348J"
      }
    },
    {
      "cell_type": "code",
      "source": [
        "gastos = [10.60, 11.99, 5.50, 10, 45.99, 7.50, 4.00]"
      ],
      "metadata": {
        "id": "8CeAhHTf9aYk"
      },
      "execution_count": null,
      "outputs": []
    },
    {
      "cell_type": "code",
      "source": [
        "# O valor mais caro é: 45.99"
      ],
      "metadata": {
        "id": "EWRw9Zkn-RWL"
      },
      "execution_count": null,
      "outputs": []
    },
    {
      "cell_type": "code",
      "source": [
        "# Resposta aqui\n",
        "gastos = [10.60, 11.99, 5.50, 10, 45.99, 7.50, 4.00]\n",
        "print(max(gastos))\n",
        "\n"
      ],
      "metadata": {
        "id": "muN_hCwu-dWp",
        "outputId": "bfce7800-633b-4aaa-fbef-cbc63a6cad69",
        "colab": {
          "base_uri": "https://localhost:8080/"
        }
      },
      "execution_count": 5,
      "outputs": [
        {
          "output_type": "stream",
          "name": "stdout",
          "text": [
            "4.0\n"
          ]
        }
      ]
    },
    {
      "cell_type": "markdown",
      "source": [
        "\n",
        "\n",
        "---\n",
        "\n"
      ],
      "metadata": {
        "id": "skCyGhKG-gpv"
      }
    },
    {
      "cell_type": "markdown",
      "source": [
        "### C) **Qual a média dessa lista?**:\n",
        "\n"
      ],
      "metadata": {
        "id": "7-fmR1dU9Lmm"
      }
    },
    {
      "cell_type": "code",
      "source": [
        "numeros = [10,80,50,90,70]"
      ],
      "metadata": {
        "id": "_x74pbVn7t91"
      },
      "execution_count": 6,
      "outputs": []
    },
    {
      "cell_type": "code",
      "source": [
        "# A média dos números é: 60.0"
      ],
      "metadata": {
        "id": "QGJ9F4go8nmt"
      },
      "execution_count": null,
      "outputs": []
    },
    {
      "cell_type": "code",
      "source": [
        "# Resposta aqui\n",
        "soma = sum(numeros)\n",
        "quantNumeros = len(numeros)\n",
        "media = soma/quantNumeros\n",
        "\n",
        "print(media)"
      ],
      "metadata": {
        "id": "C8SOjNdB8Ptz",
        "outputId": "d3ac8d03-39c2-442b-ec56-53b0bbf5e4da",
        "colab": {
          "base_uri": "https://localhost:8080/"
        }
      },
      "execution_count": 8,
      "outputs": [
        {
          "output_type": "stream",
          "name": "stdout",
          "text": [
            "60.0\n"
          ]
        }
      ]
    },
    {
      "cell_type": "markdown",
      "source": [
        "\n",
        "\n",
        "---\n",
        "\n"
      ],
      "metadata": {
        "id": "A5riB5veK95b"
      }
    },
    {
      "cell_type": "markdown",
      "source": [
        "### D) **Qual a média final dessas notas, qual a maior e qual a menor nota**"
      ],
      "metadata": {
        "id": "goAxWssZ_N5a"
      }
    },
    {
      "cell_type": "code",
      "source": [
        "notas = [10,7.8, 6, 8, 9]\n",
        "\n",
        "media = sum(notas)/len(notas)\n",
        "maior = max(notas)\n",
        "menor = min(notas)\n",
        "\n",
        "\n",
        "print(f'sua média é: {media}. sua maior nota é: {maior}, sua menor nota é: {menor}')\n"
      ],
      "metadata": {
        "id": "_IY5S15p_YIR",
        "outputId": "230ba070-e95d-4277-fd5a-3db95a516ff3",
        "colab": {
          "base_uri": "https://localhost:8080/"
        }
      },
      "execution_count": 16,
      "outputs": [
        {
          "output_type": "stream",
          "name": "stdout",
          "text": [
            "sua média é: 8.16. sua maior nota é: 10, sua menor nota é: 6\n"
          ]
        }
      ]
    },
    {
      "cell_type": "code",
      "source": [
        "# A média final é 8.16. A sua maior nota foi 10 e a menor nota foi 6!"
      ],
      "metadata": {
        "id": "Xa-J0VSI_6YZ"
      },
      "execution_count": null,
      "outputs": []
    },
    {
      "cell_type": "markdown",
      "source": [
        "\n",
        "\n",
        "---\n",
        "\n"
      ],
      "metadata": {
        "id": "ifwPeyZQK-2l"
      }
    },
    {
      "cell_type": "markdown",
      "source": [
        "### E) **Com as mesmas informações do exercício anterior, apresente se a aluna foi APROVADA ou REPROVADA**"
      ],
      "metadata": {
        "id": "p8L7DdPbApDN"
      }
    },
    {
      "cell_type": "markdown",
      "source": [
        "*  Se a média for igual ou superior a 6 apresentar a mensagem \"Parabéns, você foi APROVADA!\"\n",
        "*  Se a média for menor, apresentar \"Não foi dessa vez, infelizmente você foi REPROVADA!\""
      ],
      "metadata": {
        "id": "kb21A5Z1A7CU"
      }
    },
    {
      "cell_type": "code",
      "source": [
        "# Parabéns você foi aprovada!"
      ],
      "metadata": {
        "id": "InjCDLOZBZhC"
      },
      "execution_count": null,
      "outputs": []
    },
    {
      "cell_type": "code",
      "source": [
        "# Resposta aqui\n",
        "if media >= 6 :\n",
        "    print('parabéns, você foi aprovada')\n",
        "else:\n",
        "    print('Não foi dessa vez, infelizmente você foi REPROVADA!')"
      ],
      "metadata": {
        "id": "g2nUuyoUalog",
        "outputId": "b0c02ea4-2fcc-46b7-f69e-57f96c369354",
        "colab": {
          "base_uri": "https://localhost:8080/"
        }
      },
      "execution_count": 21,
      "outputs": [
        {
          "output_type": "stream",
          "name": "stdout",
          "text": [
            "Não foi dessa vez, infelizmente você foi REPROVADA!\n"
          ]
        }
      ]
    },
    {
      "cell_type": "markdown",
      "source": [
        "\n",
        "\n",
        "---\n",
        "\n"
      ],
      "metadata": {
        "id": "X5Ya3MHRK_4N"
      }
    },
    {
      "cell_type": "markdown",
      "source": [
        "### F) **Desenvolva um programa que realize as quatro operações básicas (adição, subtração, multiplicação e divisão) entre dois números. A usuária deve escolher a operação e inserir os valores**"
      ],
      "metadata": {
        "id": "YT8vTnW2ENVL"
      }
    },
    {
      "cell_type": "code",
      "source": [
        "#Digite o primeiro número: 10\n",
        "#Digite o segundo número: 20\n",
        "#Digite a operação (+, -, *, /): +\n",
        "#Resultado: 30.0"
      ],
      "metadata": {
        "id": "gpmOjgseE4aD"
      },
      "execution_count": null,
      "outputs": []
    },
    {
      "cell_type": "code",
      "source": [
        "# Resposta aqui\n",
        "priNum = float(input('digite o primeiro numero: '))\n",
        "segNum = float(input('digite o segundo numero: '))\n",
        "escolha = input('digite o simbolo da operação que deseja realizar: ')\n",
        "\n",
        "if escolha == '+':\n",
        "  print(priNum + segNum)\n",
        "\n",
        "if escolha == '-':\n",
        "  print(priNum - segNum)\n",
        "\n",
        "if escolha == '/':\n",
        "  print(priNum / segNum)\n",
        "\n",
        "if escolha == '*':\n",
        "  print(priNum * segNum)\n"
      ],
      "metadata": {
        "id": "iTu22D0VEinD",
        "outputId": "1296b96a-8357-44f0-e833-006d242b5721",
        "colab": {
          "base_uri": "https://localhost:8080/"
        }
      },
      "execution_count": 24,
      "outputs": [
        {
          "output_type": "stream",
          "name": "stdout",
          "text": [
            "digite o primeiro numero: 20\n",
            "digite o segundo numero: 20\n",
            "digite o simbolo da operação que deseja realizar: -\n",
            "0.0\n"
          ]
        }
      ]
    },
    {
      "cell_type": "markdown",
      "source": [
        "\n",
        "\n",
        "---\n",
        "\n"
      ],
      "metadata": {
        "id": "X0ZvZeNCLA04"
      }
    },
    {
      "cell_type": "markdown",
      "source": [
        "### G) **Faça um Programa que leia três números e mostre-os em ordem decrescente.**"
      ],
      "metadata": {
        "id": "vdf5rEiZF5KM"
      }
    },
    {
      "cell_type": "code",
      "source": [
        "# Resposta aqui\n",
        "numbers = [3, 8, 22, 97, 1]\n",
        "numbers.sort(reverse = True)\n",
        "print(numbers)"
      ],
      "metadata": {
        "id": "PMPrtPEOF7eE",
        "outputId": "b35fc40f-2e6b-4cab-89db-599b600ad221",
        "colab": {
          "base_uri": "https://localhost:8080/"
        }
      },
      "execution_count": 27,
      "outputs": [
        {
          "output_type": "stream",
          "name": "stdout",
          "text": [
            "[97, 22, 8, 3, 1]\n"
          ]
        }
      ]
    },
    {
      "cell_type": "markdown",
      "source": [
        "\n",
        "\n",
        "---\n",
        "\n"
      ],
      "metadata": {
        "id": "lX9BdmxyLBtt"
      }
    },
    {
      "cell_type": "markdown",
      "source": [
        "### H) **Faça uma função que retorne o reverso de um número inteiro informado. Por exemplo: 153 -> 351**"
      ],
      "metadata": {
        "id": "p0A-lta0Gmcq"
      }
    },
    {
      "cell_type": "code",
      "source": [
        "# Resposta aqui\n",
        "numero = input('digite um numero com mais de 2 digitos: ')\n",
        "numeroRev = numero [::-1]\n",
        "print(numeroRev)"
      ],
      "metadata": {
        "id": "0Ppk5OneHom-",
        "outputId": "366880be-dcbb-4ca5-fd4a-c1fbee8260b3",
        "colab": {
          "base_uri": "https://localhost:8080/"
        }
      },
      "execution_count": 32,
      "outputs": [
        {
          "output_type": "stream",
          "name": "stdout",
          "text": [
            "digite um numero com mais de 2 digitos: 123\n",
            "321\n"
          ]
        }
      ]
    },
    {
      "cell_type": "markdown",
      "source": [
        "\n",
        "\n",
        "---\n",
        "\n"
      ],
      "metadata": {
        "id": "GWlXyhTlLCii"
      }
    },
    {
      "cell_type": "markdown",
      "source": [
        "### I) **Faça um programa que solicite o nome do usuário e imprima-o em formato de escada.**"
      ],
      "metadata": {
        "id": "4DKAX96gKJZv"
      }
    },
    {
      "cell_type": "code",
      "source": [
        "#Digite seu nome: amanda\n",
        "#a\n",
        "#am\n",
        "#ama\n",
        "#aman\n",
        "#amand\n",
        "#amanda"
      ],
      "metadata": {
        "id": "yRsRy144KKds"
      },
      "execution_count": null,
      "outputs": []
    },
    {
      "cell_type": "code",
      "source": [
        "# Resposta aqui\n",
        "\n",
        "name = input(\"nome: \").lower()\n",
        "for i in range(len(name)+1):\n",
        "    print(name[:i])"
      ],
      "metadata": {
        "id": "N2ohocU_KO08",
        "outputId": "660aae0f-2ff2-41b2-d45d-5cba2020bd5e",
        "colab": {
          "base_uri": "https://localhost:8080/"
        }
      },
      "execution_count": 33,
      "outputs": [
        {
          "output_type": "stream",
          "name": "stdout",
          "text": [
            "nome: tabita\n",
            "\n",
            "t\n",
            "ta\n",
            "tab\n",
            "tabi\n",
            "tabit\n",
            "tabita\n"
          ]
        }
      ]
    }
  ]
}